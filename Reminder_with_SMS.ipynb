{
  "nbformat": 4,
  "nbformat_minor": 0,
  "metadata": {
    "colab": {
      "name": "Reminder_with_SMS.ipynb",
      "provenance": [],
      "collapsed_sections": []
    },
    "kernelspec": {
      "name": "python3",
      "display_name": "Python 3"
    },
    "language_info": {
      "name": "python"
    }
  },
  "cells": [
    {
      "cell_type": "code",
      "execution_count": null,
      "metadata": {
        "id": "lfMSH45TRrX3"
      },
      "outputs": [],
      "source": [
        "n=1\n",
        "current_time\n",
        "def time_now():\n",
        "  import time\n",
        "  t1 = time.localtime()\n",
        "  global current_time\n",
        "  current_time = time.strftime(\"%H:%M:%S\", t1)\n",
        "\n",
        "def track():\n",
        "  global n\n",
        "  time_now()\n",
        "\n",
        "  if current_time >= '12:25:00' and current_time <= '12:25:03':    \n",
        "    message()\n",
        "    print(\"Current Time =\", current_time)  \n",
        "    n=n+1\n",
        "    \n",
        "  if current_time >= '04:53:00' and current_time <= '04:53:03':    \n",
        "    message()\n",
        "    print(\"Current Time =\", current_time)    \n",
        "    n=n+1\n",
        "\n",
        "  if current_time >= '04:54:00' and current_time <= '04:54:03':    \n",
        "    message()\n",
        "    print(\"Current Time =\", current_time)    \n",
        "    n=n+1\n",
        "\n",
        "def message():\n",
        "  \n",
        "  !pip install -q twilio\n",
        "  from twilio.rest import Client\n",
        "  account = \"insert account ID from twillio dashboard\"\n",
        "  token = \"Insert token from dashboard\"\n",
        "  client = Client(account, token)\n",
        "  message = client.messages.create(to=\"Number to send SMS to\", from_=\"+Twillio number here\",body='Hey, loop number {0} Run successfully'.format(n))\n",
        "  \n",
        "\n",
        "while n<4:\n",
        "  track()\n"
      ]
    }
  ]
}